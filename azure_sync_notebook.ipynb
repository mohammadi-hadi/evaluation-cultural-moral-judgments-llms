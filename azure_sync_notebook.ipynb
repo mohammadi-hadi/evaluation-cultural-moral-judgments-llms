{
 "cells": [
  {
   "cell_type": "markdown",
   "metadata": {},
   "source": [
    "# Azure/SURF Server Sync & Setup Notebook\n",
    "\n",
    "This notebook helps you set up and sync the Moral Alignment Pipeline on your Azure/SURF server."
   ]
  },
  {
   "cell_type": "markdown",
   "metadata": {},
   "source": [
    "## 1. Initial Setup (Run Once)\n",
    "\n",
    "Clone the repository and set up the environment:"
   ]
  },
  {
   "cell_type": "code",
   "execution_count": null,
   "metadata": {},
   "outputs": [],
   "source": [
    "# Clone repository (run this only if not already cloned)\n",
    "!git clone https://github.com/mohammadi-hadi/moral-alignment-pipeline.git Project06"
   ]
  },
  {
   "cell_type": "code",
   "execution_count": null,
   "metadata": {},
   "outputs": [],
   "source": [
    "# Change to project directory\n",
    "import os\n",
    "os.chdir('Project06')\n",
    "print(f\"Current directory: {os.getcwd()}\")"
   ]
  },
  {
   "cell_type": "code",
   "execution_count": null,
   "metadata": {},
   "outputs": [],
   "source": [
    "# Install dependencies\n",
    "!pip install --upgrade pip\n",
    "!pip install -r requirements.txt"
   ]
  },
  {
   "cell_type": "markdown",
   "metadata": {},
   "source": [
    "## 2. Sync with GitHub (Run Anytime)\n",
    "\n",
    "Pull the latest changes from GitHub:"
   ]
  },
  {
   "cell_type": "code",
   "execution_count": null,
   "metadata": {},
   "outputs": [],
   "source": [
    "# Check current status\n",
    "!git status"
   ]
  },
  {
   "cell_type": "code",
   "execution_count": null,
   "metadata": {},
   "outputs": [],
   "source": [
    "# Pull latest changes\n",
    "!git pull origin main"
   ]
  },
  {
   "cell_type": "code",
   "execution_count": null,
   "metadata": {},
   "outputs": [],
   "source": [
    "# Check for new dependencies and install\n",
    "!pip install -r requirements.txt --upgrade"
   ]
  },
  {
   "cell_type": "markdown",
   "metadata": {},
   "source": [
    "## 3. Set Up API Keys"
   ]
  },
  {
   "cell_type": "code",
   "execution_count": null,
   "metadata": {},
   "outputs": [],
   "source": [
    "# Set up environment variables for API keys\n",
    "import os\n",
    "from pathlib import Path\n",
    "\n",
    "# Create .env file if it doesn't exist\n",
    "env_path = Path('.env')\n",
    "if not env_path.exists():\n",
    "    env_content = \"\"\"# API Keys\n",
    "OPENAI_API_KEY=your-key-here\n",
    "GEMINI_API_KEY=your-key-here\n",
    "ANTHROPIC_API_KEY=your-key-here\n",
    "COHERE_API_KEY=your-key-here\n",
    "MISTRAL_API_KEY=your-key-here\n",
    "\"\"\"\n",
    "    with open(env_path, 'w') as f:\n",
    "        f.write(env_content)\n",
    "    print(\"Created .env file. Please add your API keys!\")\n",
    "else:\n",
    "    print(\".env file exists\")\n",
    "\n",
    "# Load environment variables\n",
    "from dotenv import load_dotenv\n",
    "load_dotenv()\n",
    "\n",
    "# Check which API keys are set\n",
    "api_keys = ['OPENAI_API_KEY', 'GEMINI_API_KEY', 'ANTHROPIC_API_KEY', 'COHERE_API_KEY', 'MISTRAL_API_KEY']\n",
    "for key in api_keys:\n",
    "    if os.getenv(key) and os.getenv(key) != 'your-key-here':\n",
    "        print(f\"✅ {key} is set\")\n",
    "    else:\n",
    "        print(f\"❌ {key} is not set\")"
   ]
  },
  {
   "cell_type": "markdown",
   "metadata": {},
   "source": [
    "## 4. Create Directory Structure"
   ]
  },
  {
   "cell_type": "code",
   "execution_count": null,
   "metadata": {},
   "outputs": [],
   "source": [
    "# Create necessary directories\n",
    "from pathlib import Path\n",
    "\n",
    "directories = [\n",
    "    \"outputs/scores/logprob\",\n",
    "    \"outputs/scores/direct\",\n",
    "    \"outputs/scores/cot\",\n",
    "    \"outputs/traces/raw\",\n",
    "    \"outputs/traces/processed\",\n",
    "    \"outputs/prompts/templates\",\n",
    "    \"outputs/prompts/filled\",\n",
    "    \"outputs/evaluations/peer\",\n",
    "    \"outputs/evaluations/human\",\n",
    "    \"outputs/visualizations/figures\",\n",
    "    \"outputs/visualizations/reports\",\n",
    "    \"outputs/experiments/runs\",\n",
    "    \"outputs/experiments/logs\",\n",
    "    \"outputs/cross_evaluation\",\n",
    "    \"outputs/cache\",\n",
    "    \"sample_data\"\n",
    "]\n",
    "\n",
    "for dir_path in directories:\n",
    "    Path(dir_path).mkdir(parents=True, exist_ok=True)\n",
    "\n",
    "print(\"✅ Directory structure created\")"
   ]
  },
  {
   "cell_type": "markdown",
   "metadata": {},
   "source": [
    "## 5. Test Installation"
   ]
  },
  {
   "cell_type": "code",
   "execution_count": null,
   "metadata": {},
   "outputs": [],
   "source": [
    "# Test imports\n",
    "try:\n",
    "    import torch\n",
    "    import transformers\n",
    "    import pandas as pd\n",
    "    import numpy as np\n",
    "    import streamlit\n",
    "    from sentence_transformers import SentenceTransformer\n",
    "    \n",
    "    # Test custom modules\n",
    "    from prompts_manager import PromptsManager\n",
    "    from cross_evaluation import CrossEvaluator\n",
    "    from data_storage import DataStorageManager\n",
    "    from conflict_resolver import ConflictResolver\n",
    "    \n",
    "    print(\"✅ All imports successful!\")\n",
    "    print(f\"PyTorch version: {torch.__version__}\")\n",
    "    print(f\"CUDA available: {torch.cuda.is_available()}\")\n",
    "    \n",
    "except ImportError as e:\n",
    "    print(f\"❌ Import error: {e}\")\n",
    "    print(\"Please check requirements installation\")"
   ]
  },
  {
   "cell_type": "markdown",
   "metadata": {},
   "source": [
    "## 6. Quick Test Run"
   ]
  },
  {
   "cell_type": "code",
   "execution_count": null,
   "metadata": {},
   "outputs": [],
   "source": [
    "# Test with minimal configuration\n",
    "from prompts_manager import PromptsManager\n",
    "from data_storage import DataStorageManager\n",
    "\n",
    "# Initialize components\n",
    "pm = PromptsManager()\n",
    "storage = DataStorageManager()\n",
    "\n",
    "# Create example prompts\n",
    "test_prompts = pm.create_logprob_prompts(\n",
    "    country=\"United States\",\n",
    "    topic=\"abortion\",\n",
    "    model=\"gpt-4o\"\n",
    ")\n",
    "\n",
    "print(f\"✅ Created {len(test_prompts)} test prompts\")\n",
    "print(f\"\\nExample prompt:\")\n",
    "print(test_prompts[0].filled_prompt if test_prompts else \"No prompts created\")"
   ]
  },
  {
   "cell_type": "markdown",
   "metadata": {},
   "source": [
    "## 7. Launch Dashboard (Optional)"
   ]
  },
  {
   "cell_type": "code",
   "execution_count": null,
   "metadata": {},
   "outputs": [],
   "source": [
    "# Note: This will launch Streamlit in a separate process\n",
    "# You may need to access it through your Azure/SURF portal or tunnel\n",
    "\n",
    "# Uncomment to launch:\n",
    "# !streamlit run human_dashboard.py --server.port 8501 --server.address 0.0.0.0"
   ]
  },
  {
   "cell_type": "markdown",
   "metadata": {},
   "source": [
    "## 8. Run Main Pipeline"
   ]
  },
  {
   "cell_type": "code",
   "execution_count": null,
   "metadata": {},
   "outputs": [],
   "source": [
    "# Run with lightweight profile for testing\n",
    "!python run_enhanced.py --profile lightweight --sample-size 10"
   ]
  },
  {
   "cell_type": "markdown",
   "metadata": {},
   "source": [
    "## 📝 Notes\n",
    "\n",
    "### Keeping in Sync:\n",
    "1. Always run cell #2 (Sync with GitHub) to get latest changes\n",
    "2. After syncing, re-run dependency installation if requirements.txt changed\n",
    "\n",
    "### Git Commands Reference:\n",
    "- `git pull origin main` - Get latest changes\n",
    "- `git status` - Check current status\n",
    "- `git log --oneline -5` - See recent commits\n",
    "\n",
    "### Troubleshooting:\n",
    "- If merge conflicts occur, stash your changes: `git stash`\n",
    "- Then pull: `git pull origin main`\n",
    "- Apply your changes back: `git stash pop`"
   ]
  }
 ],
 "metadata": {
  "kernelspec": {
   "display_name": "Python 3",
   "language": "python",
   "name": "python3"
  },
  "language_info": {
   "codemirror_mode": {
    "name": "ipython",
    "version": 3
   },
   "file_extension": ".py",
   "mimetype": "text/x-python",
   "name": "python",
   "nbconvert_exporter": "python",
   "pygments_lexer": "ipython3",
   "version": "3.8.0"
  }
 },
 "nbformat": 4,
 "nbformat_minor": 4
}